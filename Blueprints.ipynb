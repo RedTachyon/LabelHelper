{
 "cells": [
  {
   "cell_type": "code",
   "execution_count": 2,
   "metadata": {
    "collapsed": true,
    "deletable": true,
    "editable": true
   },
   "outputs": [],
   "source": [
    "import tkinter as tk\n",
    "from tkinter import ttk\n",
    "import numpy as np\n",
    "import matplotlib\n",
    "#matplotlib.use(\"TkAgg\")\n",
    "import matplotlib.pyplot as plt\n",
    "from matplotlib.figure import Figure\n",
    "from matplotlib.backends.backend_tkagg import FigureCanvasTkAgg, NavigationToolbar2TkAgg\n",
    "\n",
    "import settings\n",
    "\n",
    "LARGE_FONT = (\"Verdana\", 12)"
   ]
  },
  {
   "cell_type": "code",
   "execution_count": 32,
   "metadata": {
    "collapsed": true,
    "deletable": true,
    "editable": true
   },
   "outputs": [],
   "source": [
    "class LabelApp(tk.Tk):\n",
    "    \n",
    "    def __init__(self, *args, **kwargs):\n",
    "        tk.Tk.__init__(self, *args, **kwargs)\n",
    "        \n",
    "        #tk.Tk.iconbitmap(self, default=\"clienticon.ico\")\n",
    "        tk.Tk.wm_title(self,  \"Label helper\")\n",
    "\n",
    "        container = tk.Frame(self)\n",
    "        container.pack(side=\"top\", fill=\"both\", expand=True)\n",
    "        container.grid_rowconfigure(0, weight=1)\n",
    "        container.grid_columnconfigure(0, weight=1)\n",
    "\n",
    "        self.frames = {}\n",
    "        for F in (Config, Graph,):\n",
    "            frame = F(container, self)\n",
    "            self.frames[F] = frame\n",
    "            frame.grid(row=0, column=0, sticky=\"nsew\")\n",
    "\n",
    "        self.show_frame(Graph)\n",
    "\n",
    "    def show_frame(self, cont):\n",
    "        frame = self.frames[cont]\n",
    "        frame.tkraise()\n",
    "\n",
    "\n",
    "class Config(tk.Frame):\n",
    "    \n",
    "    def __init__(self, parent, controller):\n",
    "        tk.Frame.__init__(self, parent)\n",
    "        label = ttk.Label(self, text=\"Config\", font=LARGE_FONT)\n",
    "        label.pack(padx=50, pady=50)\n",
    "\n",
    "        button = ttk.Button(self, text=\"Graph\", \n",
    "                            command=lambda: controller.show_frame(Graph))\n",
    "        button.pack()\n",
    "\n",
    "        \n",
    "class Graph(tk.Frame):\n",
    "    \n",
    "    def __init__(self, parent, controller):\n",
    "        \n",
    "        # Boilerplate\n",
    "        tk.Frame.__init__(self, parent)\n",
    "        label = tk.Label(self, text=\"Up arrow for 0 (good), down arrow for 1 (bad)\", font=LARGE_FONT)\n",
    "        label.pack(padx=10, pady=10)\n",
    "        \n",
    "        fig = Figure(figsize=(10,3), dpi=100)\n",
    "        plot = fig.add_subplot(111)\n",
    "        \n",
    "        # Temp graph, replace with dataset\n",
    "#         self.X = np.linspace(-np.pi, np.pi, 1000)\n",
    "#         self.Y = 2 + np.sin(self.X) + np.hstack((0.1*np.random.randn(333), 0.2*np.random.randn(334), 0.1*np.random.randn(333)))\n",
    "#         plot.scatter(self.X, self.Y, s=1)\n",
    "\n",
    "        self.dataset = Dataset(settings.FILENAME, settings.CHUNK_SIZE, settings.STEP)\n",
    "        \n",
    "        data = self.dataset.next_chunk()\n",
    "        self.X, self.Y = data[:,0], data[:,1]\n",
    "        plot.scatter(self.X, self.Y, s=.01)\n",
    "        \n",
    "        # Boilerplate\n",
    "        canvas = FigureCanvasTkAgg(fig, self)\n",
    "        canvas.show()\n",
    "        canvas.get_tk_widget().pack(side=\"bottom\", fill=\"both\", expand=True)\n",
    "        \n",
    "        toolbar = NavigationToolbar2TkAgg(canvas, self)\n",
    "        toolbar.update()\n",
    "        canvas._tkcanvas.pack(side=tk.TOP, fill=tk.BOTH, expand=True)\n",
    "        # To fix: saving the last label\n",
    "        def up(event=None):\n",
    "            try:\n",
    "                self.Y = self.dataset.next_chunk()[:,1]\n",
    "            except:\n",
    "                return\n",
    "            print(\"ok\")\n",
    "            write('result.txt', 1)\n",
    "            plot.clear()\n",
    "            plot.scatter(self.X, self.Y, s=.01)\n",
    "            canvas.show()\n",
    "            \n",
    "        def down(event=None):\n",
    "            try:\n",
    "                self.Y = self.dataset.next_chunk()[:,1]\n",
    "            except:\n",
    "                return\n",
    "            print(\"bad\")\n",
    "            write('result.txt', 0)\n",
    "            plot.clear()\n",
    "            \n",
    "            plot.scatter(self.X, self.Y, s=.01)\n",
    "            canvas.show()\n",
    "        \n",
    "        controller.bind(\"<Up>\", up)\n",
    "        controller.bind(\"<Down>\", down)\n",
    "\n",
    "class Dataset:\n",
    "    \"\"\"\n",
    "    Holds the data from a single file, allowing to get consecutive chunks.\n",
    "    \"\"\"\n",
    "    def __init__(self, path, chunk_size=1000, step=0):\n",
    "        self.path = path\n",
    "        self.chunk_size = chunk_size\n",
    "        self.step = step\n",
    "        \n",
    "        self._read_data()\n",
    "        self.max_step = np.ceil(self.data.shape[0]/chunk_size)\n",
    "        \n",
    "        \n",
    "    def _read_data(self):\n",
    "        self.data = np.fromfile(self.path, sep=' ')\n",
    "        self.data = self.data.reshape((-1, 2), order='F')\n",
    "        \n",
    "    def show(self):\n",
    "        print(self.data)\n",
    "        \n",
    "    def next_chunk(self):\n",
    "        if self.step >= self.max_step:\n",
    "            raise ValueError(\"The file has ended.\")\n",
    "        chunk = self.data[self.step*self.chunk_size:(self.step+1)*self.chunk_size]\n",
    "        self.step += 1\n",
    "        return chunk\n",
    "    \n",
    "    def set_step(self, val):\n",
    "        self.step = val\n",
    "        \n",
    "    def reset(self):\n",
    "        self.step = 0\n",
    "\n",
    "def write(path, content, end='\\n'):\n",
    "    \"\"\"Appends data to the chosen file\"\"\"\n",
    "    with open(path, \"a\") as f:\n",
    "        f.write(str(content))\n",
    "        f.write(end)"
   ]
  },
  {
   "cell_type": "code",
   "execution_count": 61,
   "metadata": {
    "collapsed": false,
    "deletable": true,
    "editable": true,
    "scrolled": false
   },
   "outputs": [
    {
     "name": "stdout",
     "output_type": "stream",
     "text": [
      "ok\n",
      "ok\n",
      "ok\n",
      "ok\n",
      "ok\n",
      "ok\n",
      "ok\n",
      "ok\n",
      "ok\n"
     ]
    }
   ],
   "source": [
    "app = LabelApp()\n",
    "app.mainloop()"
   ]
  },
  {
   "cell_type": "code",
   "execution_count": 31,
   "metadata": {
    "collapsed": false,
    "deletable": true,
    "editable": true
   },
   "outputs": [
    {
     "data": {
      "text/plain": [
       "[int, object]"
      ]
     },
     "execution_count": 31,
     "metadata": {},
     "output_type": "execute_result"
    }
   ],
   "source": []
  },
  {
   "cell_type": "code",
   "execution_count": 59,
   "metadata": {
    "collapsed": true,
    "deletable": true,
    "editable": true
   },
   "outputs": [],
   "source": [
    "test = Dataset('data.txt')"
   ]
  },
  {
   "cell_type": "code",
   "execution_count": 60,
   "metadata": {
    "collapsed": false,
    "deletable": true,
    "editable": true
   },
   "outputs": [
    {
     "data": {
      "image/png": "[encoded data removed]",
      "text/plain": [
       "<matplotlib.figure.Figure at 0x7f0d62280a20>"
      ]
     },
     "metadata": {},
     "output_type": "display_data"
    }
   ],
   "source": [
    "data = test.next_chunk()\n",
    "X, Y = data[:,0], data[:,1]\n",
    "plt.scatter(X, Y, s=.1)\n",
    "plt.show()"
   ]
  },
  {
   "cell_type": "code",
   "execution_count": 9,
   "metadata": {
    "collapsed": true,
    "deletable": true,
    "editable": true
   },
   "outputs": [],
   "source": [
    "X = np.linspace(-3*np.pi, 3*np.pi, 10000)\n",
    "Y = np.sin(X) + np.hstack((0.1*np.random.randn(3333), 0.2*np.random.randn(3334), 0.1*np.random.randn(3333)))\n",
    "np.savetxt('data.txt', np.vstack([X, Y]))"
   ]
  },
  {
   "cell_type": "code",
   "execution_count": 87,
   "metadata": {
    "collapsed": true,
    "deletable": true,
    "editable": true
   },
   "outputs": [],
   "source": [
    "test = np.fromfile('testfile.txt', sep=' ')"
   ]
  },
  {
   "cell_type": "code",
   "execution_count": 89,
   "metadata": {
    "collapsed": false,
    "deletable": true,
    "editable": true
   },
   "outputs": [
    {
     "data": {
      "image/png": "[encoded data removed]",
      "text/plain": [
       "<matplotlib.figure.Figure at 0x7f51c0e595c0>"
      ]
     },
     "metadata": {},
     "output_type": "display_data"
    }
   ],
   "source": [
    "plt.scatter(X,Y, s=.01);plt.show()"
   ]
  },
  {
   "cell_type": "code",
   "execution_count": 10,
   "metadata": {
    "collapsed": true,
    "deletable": true,
    "editable": true
   },
   "outputs": [],
   "source": [
    "for i in range(10):\n",
    "    write('testfile.txt', str(i**2))"
   ]
  }
 ],
 "metadata": {
  "kernelspec": {
   "display_name": "Python 3",
   "language": "python",
   "name": "python3"
  },
  "language_info": {
   "codemirror_mode": {
    "name": "ipython",
    "version": 3
   },
   "file_extension": ".py",
   "mimetype": "text/x-python",
   "name": "python",
   "nbconvert_exporter": "python",
   "pygments_lexer": "ipython3",
   "version": "3.5.3"
  }
 },
 "nbformat": 4,
 "nbformat_minor": 2
}
